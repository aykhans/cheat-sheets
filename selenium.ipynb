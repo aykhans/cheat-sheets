{
 "cells": [
  {
   "attachments": {},
   "cell_type": "markdown",
   "metadata": {},
   "source": [
    "## CLOUDFLARE"
   ]
  },
  {
   "cell_type": "code",
   "execution_count": null,
   "metadata": {},
   "outputs": [],
   "source": [
    "import undetected_chromedriver as uc\n",
    "from selenium.webdriver.common.by import By\n",
    "from selenium.webdriver.support.ui import WebDriverWait\n",
    "from selenium.webdriver.support import expected_conditions as EC"
   ]
  },
  {
   "cell_type": "code",
   "execution_count": null,
   "metadata": {},
   "outputs": [],
   "source": [
    "driver = uc.Chrome(use_subprocess=True)\n",
    "wait = WebDriverWait(driver, 20)\n",
    "\n",
    "url = '...'\n",
    "driver.get(url)\n",
    "wait.until(EC.visibility_of_element_located((By.XPATH, '//div[@class=\"l3 m-0 fw-regular\"]')))\n",
    "x = driver.find_elements(By.XPATH, \"//a[@class='d-ib c-midnight-100 js-log-click']\")\n",
    "..."
   ]
  },
  {
   "attachments": {},
   "cell_type": "markdown",
   "metadata": {},
   "source": [
    "## XPATH: Select only child tags"
   ]
  },
  {
   "cell_type": "code",
   "execution_count": null,
   "metadata": {},
   "outputs": [],
   "source": [
    "obj.find_element(By.XPATH, \"descendant::p[@class='price price--reduced']\")"
   ]
  },
  {
   "attachments": {},
   "cell_type": "markdown",
   "metadata": {},
   "source": [
    "## Instagram: login with tokens"
   ]
  },
  {
   "cell_type": "code",
   "execution_count": null,
   "metadata": {},
   "outputs": [],
   "source": [
    "from selenium.webdriver import Chrome\n",
    "from time import sleep"
   ]
  },
  {
   "cell_type": "code",
   "execution_count": null,
   "metadata": {},
   "outputs": [],
   "source": [
    "driver = Chrome(executable_path='./chromedriver_108')\n",
    "driver.get(\"https://www.instagram.com/\")\n",
    "sleep(1)\n",
    "\n",
    "cookies = {\n",
    "    \"csrftoken\": \"...\",\n",
    "    \"sessionid\": \"...\",\n",
    "}\n",
    "\n",
    "for name, value in cookies.items():\n",
    "    driver.add_cookie({'name': name, 'value': value})\n",
    "\n",
    "sleep(1)\n",
    "driver.refresh()"
   ]
  },
  {
   "attachments": {},
   "cell_type": "markdown",
   "metadata": {},
   "source": [
    "## Scroll with JS"
   ]
  },
  {
   "cell_type": "code",
   "execution_count": null,
   "metadata": {},
   "outputs": [],
   "source": [
    "driver.execute_script('arguments[0].scrollTop = arguments[0].scrollTop + arguments[0].offsetHeight;', scroll_body)"
   ]
  },
  {
   "attachments": {},
   "cell_type": "markdown",
   "metadata": {},
   "source": [
    "## Scroll for PowerBI"
   ]
  },
  {
   "cell_type": "code",
   "execution_count": null,
   "metadata": {},
   "outputs": [],
   "source": [
    "from selenium.webdriver import Chrome\n",
    "from selenium.webdriver.common.by import By\n",
    "from selenium.webdriver import ActionChains"
   ]
  },
  {
   "cell_type": "code",
   "execution_count": null,
   "metadata": {},
   "outputs": [],
   "source": [
    "driver = Chrome(executable_path='./chromedriver_108')\n",
    "driver.get(\"https://app.powerbi.com/view?r=eyJrIjoiNDAyMWRhZWUtMDEyMi00MGNhLTkyMjYtNjcwMjg5NmEyYzA0IiwidCI6IjZmMjdmNjhjLWFmMTYtNDkzZC1iNDgzLTAxOTI2OGY1YTFiOCIsImMiOjl9&pageName=ReportSection6662b568d03574de783f\")\n",
    "sleep(3)\n",
    "\n",
    "scroll_bar = driver.find_element(By.CSS_SELECTOR, '#pvExplorationHost > div > div > exploration > div > explore-canvas > div > div.canvasFlexBox > div > div.displayArea.disableAnimations.fitToPage > div.visualContainerHost.visualContainerOutOfFocus > visual-container-repeat > visual-container:nth-child(12) > transform > div > div.visualContent > div > visual-modern > div > div > div.tableEx > div:nth-child(8) > div.scroll-bar-part-bar')\n",
    "actions = ActionChains(driver)\n",
    "actions.move_to_element_with_offset(scroll_bar, 0, 55)\n",
    "actions.click()\n",
    "actions.perform()"
   ]
  }
 ],
 "metadata": {
  "kernelspec": {
   "display_name": ".venv",
   "language": "python",
   "name": "python3"
  },
  "language_info": {
   "name": "python",
   "version": "3.10.6 (main, Nov 14 2022, 16:10:14) [GCC 11.3.0]"
  },
  "orig_nbformat": 4,
  "vscode": {
   "interpreter": {
    "hash": "d844aab742c13829f762009784a34bca09abec88e45736c361e5e02607d73e3f"
   }
  }
 },
 "nbformat": 4,
 "nbformat_minor": 2
}
